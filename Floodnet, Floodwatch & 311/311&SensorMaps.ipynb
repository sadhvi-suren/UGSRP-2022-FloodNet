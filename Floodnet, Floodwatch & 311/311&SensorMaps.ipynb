{
 "cells": [
  {
   "cell_type": "code",
   "execution_count": 1,
   "metadata": {},
   "outputs": [],
   "source": [
    "import pandas as pd\n",
    "import numpy as np\n",
    "import ipyleaflet\n",
    "import datetime\n",
    "from ipyleaflet import Map, basemaps, basemap_to_tiles, Marker, CircleMarker, MarkerCluster, AwesomeIcon, FullScreenControl\n",
    "from datetime import datetime as dt\n",
    "from ipywidgets import HTML"
   ]
  },
  {
   "cell_type": "code",
   "execution_count": 2,
   "metadata": {},
   "outputs": [],
   "source": [
    "df = pd.read_csv('../data/SensorFloods.csv')               #Sensors with floods labelled\n",
    "df['Start_time'] = pd.to_datetime(df['Start_time'])\n",
    "df['Start_time'] = df['Start_time'].dt.date"
   ]
  },
  {
   "cell_type": "code",
   "execution_count": 3,
   "metadata": {},
   "outputs": [],
   "source": [
    "dfAll = pd.read_csv('../data/AllEventsData.csv')             #All Sensors with any data labelled\n",
    "dfAll['Start_time'] = pd.to_datetime(dfAll['Start_time'])\n",
    "dfAll['Start_time'] = dfAll['Start_time'].dt.date"
   ]
  },
  {
   "cell_type": "code",
   "execution_count": 4,
   "metadata": {},
   "outputs": [],
   "source": [
    "df311 = pd.read_csv('../data/311ServiceRequests.csv', low_memory=False)      #311 Complaints for Street Flooding\n",
    "#convert created date column to datetime values\n",
    "df311['Created Date'] = pd.to_datetime(df311['Created Date'])\n",
    "#filter out years before 2020\n",
    "df311= df311[df311['Created Date'].dt.year > 2019]\n",
    "\n",
    "df311 = df311.drop(columns=['Agency Name','Location Type', 'Vehicle Type','Taxi Company Borough', 'Taxi Pick Up Location', 'Bridge Highway Name',\n",
    "       'Bridge Highway Direction', 'Road Ramp', 'Bridge Highway Segment', 'Open Data Channel Type',\n",
    "       'Park Facility Name'])\n",
    "df311['Created Date'] = df311['Created Date'].dt.date\n",
    "df311['Created Date'] = pd.to_datetime(df311['Created Date'])\n"
   ]
  },
  {
   "cell_type": "markdown",
   "metadata": {},
   "source": [
    "### Mapping Sensors and 311 data within a certain time period"
   ]
  },
  {
   "cell_type": "code",
   "execution_count": 5,
   "metadata": {},
   "outputs": [],
   "source": [
    "def map(start=None, end=None):\n",
    "    #Format input date\n",
    "    start = dt.strptime(start,'%Y-%m-%d')\n",
    "    styear = start.year\n",
    "    stmonth = start.month\n",
    "    stday = start.day\n",
    "\n",
    "    end = dt.strptime(end,'%Y-%m-%d')\n",
    "    endyear = end.year\n",
    "    endmonth = end.month\n",
    "    endday = end.day\n",
    "\n",
    "    #Create Map\n",
    "    center = (40.6542974,-73.8316683)\n",
    "    m = Map(basemap=basemaps.CartoDB.DarkMatter,center=center, zoom=12)\n",
    "    \n",
    "    #Create icons \n",
    "    icon1 = AwesomeIcon(name = 'circle', marker_color = 'blue', icon_color= 'white',spin = False)\n",
    "    icon2 = AwesomeIcon(name = 'circle',marker_color = 'white',icon_color= 'black',spin = False)\n",
    "\n",
    "\n",
    "    #Plot all sensors with flood data \n",
    "    new = df.drop_duplicates('Deployment_id')\n",
    "\n",
    "    for index, row in new.iterrows():\n",
    "        lat = new['Latitude'][index]\n",
    "        long = new['Longitude'][index]\n",
    "        marker = Marker(icon=icon1,location=(lat,long),draggable= False)\n",
    "        m.add_layer(marker)\n",
    "        address = HTML()\n",
    "        address.value = new['Address'][index]\n",
    "        marker.popup = address\n",
    "\n",
    "    #Mapping all deployed sensors with no recorded floods\n",
    "    floodsensors = ['easily_dear_mouse','duly_pro_vervet','mainly_fond_boar','mildly_calm_ibex',\n",
    "                'daily_happy_satyr','simply_pet_joey','daily_new_falcon','weekly_poetic_guinea']\n",
    "\n",
    "    newALL = dfAll.drop_duplicates('Deployment_id')\n",
    "\n",
    "    for index, row in newALL.iterrows():\n",
    "        if newALL['Deployment_id'][index] not in floodsensors:\n",
    "            lat = newALL['Latitude'][index]\n",
    "            long = newALL['Longitude'][index]\n",
    "            marker = Marker(icon=icon2,location=(lat,long),draggable= False)\n",
    "            m.add_layer(marker)\n",
    "            address = HTML()\n",
    "            address.value = newALL['Address'][index]\n",
    "            marker.popup = address\n",
    "        \n",
    "        \n",
    "    \n",
    "    #Mapping all 311 Flood Complaints since input date\n",
    "    \n",
    "    df311['Created Date'] = pd.to_datetime(df311['Created Date'])\n",
    "\n",
    "    df311['year'] = df311['Created Date'].dt.year\n",
    "    df311['month'] = df311['Created Date'].dt.month\n",
    "    df311['day'] = df311['Created Date'].dt.day\n",
    "\n",
    "    df311['Created Date'] = df311['Created Date'].astype(str)\n",
    "\n",
    "    for index,row in df311.iterrows():\n",
    "        date = dt.strptime(df311['Created Date'][index],'%Y-%m-%d')\n",
    "        if start <= date <= end:\n",
    "            lat = df311['Latitude'][index]\n",
    "            long = df311['Longitude'][index]\n",
    "            circle_marker = CircleMarker()\n",
    "            circle_marker.location = (lat,long)\n",
    "            circle_marker.radius = 2\n",
    "            circle_marker.color = 'red'\n",
    "            m.add_layer(circle_marker)\n",
    "\n",
    "            df311['Created Date'] = df311['Created Date'].astype(str)\n",
    "            dateVal = HTML()\n",
    "            dateVal.value = df311['Created Date'][index]\n",
    "            circle_marker.popup = dateVal\n",
    "    \n",
    "    return m"
   ]
  },
  {
   "cell_type": "code",
   "execution_count": 6,
   "metadata": {},
   "outputs": [
    {
     "name": "stderr",
     "output_type": "stream",
     "text": [
      "C:\\Users\\sadhv\\AppData\\Local\\Packages\\PythonSoftwareFoundation.Python.3.10_qbz5n2kfra8p0\\LocalCache\\local-packages\\Python310\\site-packages\\jupyter_client\\session.py:718: UserWarning: Message serialization failed with:\n",
      "Out of range float values are not JSON compliant\n",
      "Supporting this message is deprecated in jupyter-client 7, please make sure your message is JSON-compliant\n",
      "  content = self.pack(content)\n"
     ]
    },
    {
     "data": {
      "application/vnd.jupyter.widget-view+json": {
       "model_id": "b32744bcf5c04a64a722ee9094588883",
       "version_major": 2,
       "version_minor": 0
      },
      "text/plain": [
       "Map(center=[40.6542974, -73.8316683], controls=(ZoomControl(options=['position', 'zoom_in_text', 'zoom_in_titl…"
      ]
     },
     "metadata": {},
     "output_type": "display_data"
    }
   ],
   "source": [
    "map(start='2021-12-30', end = '2022-1-6')"
   ]
  }
 ],
 "metadata": {
  "kernelspec": {
   "display_name": "Python 3.10.5 64-bit (windows store)",
   "language": "python",
   "name": "python3"
  },
  "language_info": {
   "codemirror_mode": {
    "name": "ipython",
    "version": 3
   },
   "file_extension": ".py",
   "mimetype": "text/x-python",
   "name": "python",
   "nbconvert_exporter": "python",
   "pygments_lexer": "ipython3",
   "version": "3.10.6"
  },
  "orig_nbformat": 4,
  "vscode": {
   "interpreter": {
    "hash": "045b5b982cd160e065e4d8453ab778e0a126a99535f41566511b1709f10af2d8"
   }
  }
 },
 "nbformat": 4,
 "nbformat_minor": 2
}
